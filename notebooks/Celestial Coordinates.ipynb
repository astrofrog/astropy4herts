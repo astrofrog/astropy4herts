{
 "metadata": {
  "name": ""
 },
 "nbformat": 3,
 "nbformat_minor": 0,
 "worksheets": [
  {
   "cells": [
    {
     "cell_type": "markdown",
     "metadata": {},
     "source": [
      "Celestial Coordinates\n",
      "====================="
     ]
    },
    {
     "cell_type": "markdown",
     "metadata": {},
     "source": [
      "Documentation\n",
      "-------------\n",
      "\n",
      "For more information about the features presented below, you can read the\n",
      "[astropy.coordinates](http://docs.astropy.org/en/v0.2.1/coordinates/index.html) docs.\n",
      "\n",
      "Representing and converting coordinates\n",
      "---------------------------------------\n",
      "\n",
      "Astropy includes a framework to represent celestial coordinates and transform\n",
      "between them. Astropy 0.2 and 0.3 only include a few common coordinate systems (ICRS,\n",
      "FK4, FK5, and Galactic), but future versions will include more built-in\n",
      "coordinate systems, and users can already define their own systems.\n",
      "\n",
      "Creating coordinate objects is straightforward:"
     ]
    },
    {
     "cell_type": "code",
     "collapsed": false,
     "input": [
      "from astropy import coordinates as coord\n",
      "from astropy import units as u"
     ],
     "language": "python",
     "metadata": {},
     "outputs": [],
     "prompt_number": 34
    },
    {
     "cell_type": "code",
     "collapsed": false,
     "input": [
      "coord.ICRSCoordinates(ra=10.68458, dec=41.26917, unit=(u.deg, u.deg))"
     ],
     "language": "python",
     "metadata": {},
     "outputs": [
      {
       "metadata": {},
       "output_type": "pyout",
       "prompt_number": 35,
       "text": [
        "<ICRS RA=10.68458 deg, Dec=41.26917 deg>"
       ]
      }
     ],
     "prompt_number": 35
    },
    {
     "cell_type": "code",
     "collapsed": false,
     "input": [
      "coord.ICRSCoordinates('00h42m44.3s +41d16m9s')"
     ],
     "language": "python",
     "metadata": {},
     "outputs": [
      {
       "metadata": {},
       "output_type": "pyout",
       "prompt_number": 36,
       "text": [
        "<ICRS RA=10.68458 deg, Dec=41.26917 deg>"
       ]
      }
     ],
     "prompt_number": 36
    },
    {
     "cell_type": "markdown",
     "metadata": {},
     "source": [
      "The individual components of a coordinate are ``Angle`` objects, and their\n",
      "values are accessed using special attributes:"
     ]
    },
    {
     "cell_type": "code",
     "collapsed": false,
     "input": [
      "c = coord.ICRSCoordinates('00h42m44.3s +41d16m9s')"
     ],
     "language": "python",
     "metadata": {},
     "outputs": [],
     "prompt_number": 37
    },
    {
     "cell_type": "code",
     "collapsed": false,
     "input": [
      "c.ra"
     ],
     "language": "python",
     "metadata": {},
     "outputs": [
      {
       "latex": [
        "$0^\\mathrm{h}42^\\mathrm{m}44.3^\\mathrm{s}$"
       ],
       "metadata": {},
       "output_type": "pyout",
       "prompt_number": 38,
       "text": [
        "<Longitude 0.712305555555556 hourangle>"
       ]
      }
     ],
     "prompt_number": 38
    },
    {
     "cell_type": "code",
     "collapsed": false,
     "input": [
      "c.ra.hour"
     ],
     "language": "python",
     "metadata": {},
     "outputs": [
      {
       "metadata": {},
       "output_type": "pyout",
       "prompt_number": 39,
       "text": [
        "0.712305555555556"
       ]
      }
     ],
     "prompt_number": 39
    },
    {
     "cell_type": "code",
     "collapsed": false,
     "input": [
      "c.ra.hms"
     ],
     "language": "python",
     "metadata": {},
     "outputs": [
      {
       "metadata": {},
       "output_type": "pyout",
       "prompt_number": 40,
       "text": [
        "(0.0, 42.0, 44.300000000001489)"
       ]
      }
     ],
     "prompt_number": 40
    },
    {
     "cell_type": "code",
     "collapsed": false,
     "input": [
      "c.dec"
     ],
     "language": "python",
     "metadata": {},
     "outputs": [
      {
       "latex": [
        "$41^\\circ16{}^\\prime09{}^{\\prime\\prime}$"
       ],
       "metadata": {},
       "output_type": "pyout",
       "prompt_number": 41,
       "text": [
        "<Latitude 41.26916666666666 deg>"
       ]
      }
     ],
     "prompt_number": 41
    },
    {
     "cell_type": "code",
     "collapsed": false,
     "input": [
      "c.dec.radian"
     ],
     "language": "python",
     "metadata": {},
     "outputs": [
      {
       "metadata": {},
       "output_type": "pyout",
       "prompt_number": 42,
       "text": [
        "0.7202828378876265"
       ]
      }
     ],
     "prompt_number": 42
    },
    {
     "cell_type": "markdown",
     "metadata": {},
     "source": [
      "To convert to some other coordinate system, the easiest method is to use\n",
      "attribute-style access with short names for the built-in systems:"
     ]
    },
    {
     "cell_type": "code",
     "collapsed": false,
     "input": [
      "c.galactic"
     ],
     "language": "python",
     "metadata": {},
     "outputs": [
      {
       "metadata": {},
       "output_type": "pyout",
       "prompt_number": 43,
       "text": [
        "<Galactic l=121.17431 deg, b=-21.57280 deg>"
       ]
      }
     ],
     "prompt_number": 43
    },
    {
     "cell_type": "markdown",
     "metadata": {},
     "source": [
      "but explicit transformations via the ``transform_to`` method are also available:"
     ]
    },
    {
     "cell_type": "code",
     "collapsed": false,
     "input": [
      "c.transform_to(coord.GalacticCoordinates)"
     ],
     "language": "python",
     "metadata": {},
     "outputs": [
      {
       "metadata": {},
       "output_type": "pyout",
       "prompt_number": 44,
       "text": [
        "<Galactic l=121.17431 deg, b=-21.57280 deg>"
       ]
      }
     ],
     "prompt_number": 44
    },
    {
     "cell_type": "markdown",
     "metadata": {},
     "source": [
      "The ``astropy.coordinates`` subpackage also provides a quick way to get coordinates for\n",
      "named objects (with an internet connection). All coordinate classes have a\n",
      "special class method, `from_name()`, that accepts a string and queries [Sesame](http://cds.u-strasbg.fr/cgi-bin/Sesame) to retrieve coordinates for that\n",
      "object:"
     ]
    },
    {
     "cell_type": "code",
     "collapsed": false,
     "input": [
      "c_eq = coord.ICRSCoordinates.from_name(\"M16\")\n",
      "c_eq"
     ],
     "language": "python",
     "metadata": {},
     "outputs": [
      {
       "output_type": "stream",
       "stream": "stderr",
       "text": [
        "ERROR:astropy:NameResolveError: Unable to retrieve coordinates for name 'M16'\n"
       ]
      },
      {
       "ename": "NameResolveError",
       "evalue": "Unable to retrieve coordinates for name 'M16'",
       "output_type": "pyerr",
       "traceback": [
        "\u001b[0;31m---------------------------------------------------------------------------\u001b[0m\n\u001b[0;31mNameResolveError\u001b[0m                          Traceback (most recent call last)",
        "\u001b[0;32m<ipython-input-45-78e88e9bb7d8>\u001b[0m in \u001b[0;36m<module>\u001b[0;34m()\u001b[0m\n\u001b[0;32m----> 1\u001b[0;31m \u001b[0mc_eq\u001b[0m \u001b[0;34m=\u001b[0m \u001b[0mcoord\u001b[0m\u001b[0;34m.\u001b[0m\u001b[0mICRSCoordinates\u001b[0m\u001b[0;34m.\u001b[0m\u001b[0mfrom_name\u001b[0m\u001b[0;34m(\u001b[0m\u001b[0;34m\"M16\"\u001b[0m\u001b[0;34m)\u001b[0m\u001b[0;34m\u001b[0m\u001b[0m\n\u001b[0m\u001b[1;32m      2\u001b[0m \u001b[0mc_eq\u001b[0m\u001b[0;34m\u001b[0m\u001b[0m\n",
        "\u001b[0;32m/Users/tom/Library/Python/2.7/lib/python/site-packages/astropy-0.3.dev6585-py2.7-macosx-10.8-x86_64.egg/astropy/coordinates/coordsystems.pyc\u001b[0m in \u001b[0;36mfrom_name\u001b[0;34m(cls, name)\u001b[0m\n\u001b[1;32m    694\u001b[0m         \u001b[0;32mfrom\u001b[0m \u001b[0;34m.\u001b[0m\u001b[0mname_resolve\u001b[0m \u001b[0;32mimport\u001b[0m \u001b[0mget_icrs_coordinates\u001b[0m\u001b[0;34m\u001b[0m\u001b[0m\n\u001b[1;32m    695\u001b[0m \u001b[0;34m\u001b[0m\u001b[0m\n\u001b[0;32m--> 696\u001b[0;31m         \u001b[0micrs\u001b[0m \u001b[0;34m=\u001b[0m \u001b[0mget_icrs_coordinates\u001b[0m\u001b[0;34m(\u001b[0m\u001b[0mname\u001b[0m\u001b[0;34m)\u001b[0m\u001b[0;34m\u001b[0m\u001b[0m\n\u001b[0m\u001b[1;32m    697\u001b[0m         \u001b[0;32mif\u001b[0m \u001b[0mcls\u001b[0m \u001b[0;34m==\u001b[0m \u001b[0micrs\u001b[0m\u001b[0;34m.\u001b[0m\u001b[0m__class__\u001b[0m\u001b[0;34m:\u001b[0m\u001b[0;34m\u001b[0m\u001b[0m\n\u001b[1;32m    698\u001b[0m             \u001b[0;32mreturn\u001b[0m \u001b[0micrs\u001b[0m\u001b[0;34m\u001b[0m\u001b[0m\n",
        "\u001b[0;32m/Users/tom/Library/Python/2.7/lib/python/site-packages/astropy-0.3.dev6585-py2.7-macosx-10.8-x86_64.egg/astropy/coordinates/name_resolve.pyc\u001b[0m in \u001b[0;36mget_icrs_coordinates\u001b[0;34m(name)\u001b[0m\n\u001b[1;32m    133\u001b[0m             \u001b[0;32melse\u001b[0m\u001b[0;34m:\u001b[0m\u001b[0;34m\u001b[0m\u001b[0m\n\u001b[1;32m    134\u001b[0m                 raise NameResolveError(\"Unable to retrieve coordinates for name \"\n\u001b[0;32m--> 135\u001b[0;31m                                        \"'{0}'\".format(name))\n\u001b[0m\u001b[1;32m    136\u001b[0m \u001b[0;34m\u001b[0m\u001b[0m\n\u001b[1;32m    137\u001b[0m     \u001b[0;31m# All Sesame URL's timed out...\u001b[0m\u001b[0;34m\u001b[0m\u001b[0;34m\u001b[0m\u001b[0m\n",
        "\u001b[0;31mNameResolveError\u001b[0m: Unable to retrieve coordinates for name 'M16'"
       ]
      },
      {
       "output_type": "stream",
       "stream": "stdout",
       "text": [
        "ERROR: NameResolveError: Unable to retrieve coordinates for name 'M16' [astropy.coordinates.name_resolve]\n"
       ]
      }
     ],
     "prompt_number": 45
    },
    {
     "cell_type": "markdown",
     "metadata": {},
     "source": [
      "This works for any coordinate class:"
     ]
    },
    {
     "cell_type": "code",
     "collapsed": false,
     "input": [
      "c_gal = coord.GalacticCoordinates.from_name(\"M16\")"
     ],
     "language": "python",
     "metadata": {},
     "outputs": []
    },
    {
     "cell_type": "code",
     "collapsed": false,
     "input": [
      "c_gal"
     ],
     "language": "python",
     "metadata": {},
     "outputs": []
    },
    {
     "cell_type": "markdown",
     "metadata": {},
     "source": [
      "Using arrays in coordinates (new in Astropy 0.3)\n",
      "------------------------------------------------\n",
      "\n",
      "As of Astropy 0.3, Numpy arrays can be used inside coordinate objects instead of scalar floating point values (this is much more efficient that creating one coordinate object for each source). The following example demonstrates how one can combine the ``Table`` class with coordinate objects:"
     ]
    },
    {
     "cell_type": "code",
     "collapsed": false,
     "input": [
      "from astropy.table import Table\n",
      "t = Table.read('2mass.tbl', format='ascii.ipac')"
     ],
     "language": "python",
     "metadata": {},
     "outputs": []
    },
    {
     "cell_type": "code",
     "collapsed": false,
     "input": [
      "t"
     ],
     "language": "python",
     "metadata": {},
     "outputs": []
    },
    {
     "cell_type": "code",
     "collapsed": false,
     "input": [
      "c = coord.FK5Coordinates(t['ra'], t['dec'], unit=(u.deg, u.deg))"
     ],
     "language": "python",
     "metadata": {},
     "outputs": []
    },
    {
     "cell_type": "code",
     "collapsed": false,
     "input": [
      "c.ra.degree"
     ],
     "language": "python",
     "metadata": {},
     "outputs": []
    },
    {
     "cell_type": "code",
     "collapsed": false,
     "input": [
      "c = coord.FK5Coordinates(t['clon'], t['clat'])"
     ],
     "language": "python",
     "metadata": {},
     "outputs": []
    },
    {
     "cell_type": "markdown",
     "metadata": {},
     "source": [
      "Practical Exercises\n",
      "-------------------\n",
      "\n",
      "### Level 1\n",
      "\n",
      "Find the coordinates of the Crab Nebula in ICRS coordinates, and convert them to Galactic Coordinates.\n",
      "\n",
      "### Level 2\n",
      "\n",
      "Starting from [this](http://LINK) table in FITS format (which is the ROSAT all-sky catalog), read in the sources, use the RA and Dec columns to instantiate a coordinate object, then convert to Galactic coordinates. Make a plot of latitude versus longitude.\n",
      "\n",
      "### Level 3\n",
      "\n",
      "Once you have done Level 2, make an Aitoff projection map of the sources in Galactic coordinates."
     ]
    }
   ],
   "metadata": {}
  }
 ]
}